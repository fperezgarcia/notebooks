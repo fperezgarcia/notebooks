{
 "cells": [
  {
   "cell_type": "code",
   "execution_count": 18,
   "id": "36b29052-295d-46d8-b52f-28330d832f85",
   "metadata": {},
   "outputs": [
    {
     "data": {
      "application/vnd.plotly.v1+json": {
       "config": {
        "plotlyServerURL": "https://plot.ly"
       },
       "data": [
        {
         "hovertemplate": "x=%{x}<br>y=%{y}<extra></extra>",
         "legendgroup": "",
         "marker": {
          "color": "#636efa",
          "symbol": "circle"
         },
         "mode": "markers",
         "name": "",
         "orientation": "v",
         "showlegend": false,
         "type": "scatter",
         "x": [
          0,
          0.1,
          0.2,
          0.30000000000000004,
          0.4,
          0.5,
          0.6000000000000001,
          0.7000000000000001,
          0.8,
          0.9,
          1,
          1.1,
          1.2000000000000002,
          1.3,
          1.4000000000000001,
          1.5,
          1.6,
          1.7000000000000002,
          1.8,
          1.9000000000000001,
          2,
          2.1,
          2.2,
          2.3000000000000003,
          2.4000000000000004,
          2.5,
          2.6,
          2.7,
          2.8000000000000003,
          2.9000000000000004,
          3,
          3.1,
          3.2,
          3.3000000000000003,
          3.4000000000000004,
          3.5,
          3.6,
          3.7,
          3.8000000000000003,
          3.9000000000000004,
          4,
          4.1000000000000005,
          4.2,
          4.3,
          4.4,
          4.5,
          4.6000000000000005,
          4.7,
          4.800000000000001,
          4.9,
          5,
          5.1000000000000005,
          5.2,
          5.300000000000001,
          5.4,
          5.5,
          5.6000000000000005,
          5.7,
          5.800000000000001,
          5.9,
          6,
          6.1000000000000005,
          6.2,
          6.300000000000001,
          6.4,
          6.5,
          6.6000000000000005,
          6.7,
          6.800000000000001,
          6.9,
          7,
          7.1000000000000005,
          7.2,
          7.300000000000001,
          7.4,
          7.5,
          7.6000000000000005,
          7.7,
          7.800000000000001,
          7.9,
          8,
          8.1,
          8.200000000000001,
          8.3,
          8.4,
          8.5,
          8.6,
          8.700000000000001,
          8.8,
          8.9,
          9,
          9.1,
          9.200000000000001,
          9.3,
          9.4,
          9.5,
          9.600000000000001,
          9.700000000000001,
          9.8,
          9.9
         ],
         "xaxis": "x",
         "y": [
          0,
          0.09983341664682815,
          0.19866933079506122,
          0.2955202066613396,
          0.3894183423086505,
          0.479425538604203,
          0.5646424733950355,
          0.6442176872376911,
          0.7173560908995228,
          0.7833269096274834,
          0.8414709848078965,
          0.8912073600614354,
          0.9320390859672264,
          0.963558185417193,
          0.9854497299884603,
          0.9974949866040544,
          0.9995736030415051,
          0.9916648104524686,
          0.9738476308781951,
          0.9463000876874145,
          0.9092974268256817,
          0.8632093666488737,
          0.8084964038195901,
          0.74570521217672,
          0.6754631805511506,
          0.5984721441039565,
          0.5155013718214642,
          0.4273798802338298,
          0.33498815015590466,
          0.23924932921398198,
          0.1411200080598672,
          0.04158066243329049,
          -0.058374143427580086,
          -0.15774569414324865,
          -0.25554110202683167,
          -0.35078322768961984,
          -0.44252044329485246,
          -0.5298361409084934,
          -0.6118578909427193,
          -0.6877661591839741,
          -0.7568024953079282,
          -0.8182771110644108,
          -0.8715757724135882,
          -0.9161659367494549,
          -0.951602073889516,
          -0.977530117665097,
          -0.9936910036334645,
          -0.9999232575641008,
          -0.9961646088358406,
          -0.9824526126243325,
          -0.9589242746631385,
          -0.9258146823277321,
          -0.8834546557201531,
          -0.8322674422239008,
          -0.7727644875559871,
          -0.7055403255703919,
          -0.6312666378723208,
          -0.5506855425976376,
          -0.4646021794137566,
          -0.373876664830236,
          -0.27941549819892586,
          -0.18216250427209502,
          -0.0830894028174964,
          0.0168139004843506,
          0.11654920485049364,
          0.21511998808781552,
          0.3115413635133787,
          0.4048499206165983,
          0.49411335113860894,
          0.5784397643882001,
          0.6569865987187891,
          0.7289690401258765,
          0.7936678638491531,
          0.8504366206285648,
          0.8987080958116269,
          0.9379999767747389,
          0.9679196720314865,
          0.9881682338770004,
          0.998543345374605,
          0.998941341839772,
          0.9893582466233818,
          0.9698898108450863,
          0.9407305566797726,
          0.9021718337562933,
          0.8545989080882804,
          0.7984871126234903,
          0.7343970978741133,
          0.662969230082182,
          0.5849171928917617,
          0.5010208564578846,
          0.4121184852417566,
          0.3190983623493521,
          0.22288991410024592,
          0.1244544235070617,
          0.024775425453357765,
          -0.0751511204618093,
          -0.1743267812229814,
          -0.2717606264109442,
          -0.3664791292519284,
          -0.45753589377532133
         ],
         "yaxis": "y"
        },
        {
         "type": "scatter",
         "x": [
          0,
          0.1,
          0.2,
          0.30000000000000004,
          0.4,
          0.5,
          0.6000000000000001,
          0.7000000000000001,
          0.8,
          0.9,
          1,
          1.1,
          1.2000000000000002,
          1.3,
          1.4000000000000001,
          1.5,
          1.6,
          1.7000000000000002,
          1.8,
          1.9000000000000001,
          2,
          2.1,
          2.2,
          2.3000000000000003,
          2.4000000000000004,
          2.5,
          2.6,
          2.7,
          2.8000000000000003,
          2.9000000000000004,
          3,
          3.1,
          3.2,
          3.3000000000000003,
          3.4000000000000004,
          3.5,
          3.6,
          3.7,
          3.8000000000000003,
          3.9000000000000004,
          4,
          4.1000000000000005,
          4.2,
          4.3,
          4.4,
          4.5,
          4.6000000000000005,
          4.7,
          4.800000000000001,
          4.9,
          5,
          5.1000000000000005,
          5.2,
          5.300000000000001,
          5.4,
          5.5,
          5.6000000000000005,
          5.7,
          5.800000000000001,
          5.9,
          6,
          6.1000000000000005,
          6.2,
          6.300000000000001,
          6.4,
          6.5,
          6.6000000000000005,
          6.7,
          6.800000000000001,
          6.9,
          7,
          7.1000000000000005,
          7.2,
          7.300000000000001,
          7.4,
          7.5,
          7.6000000000000005,
          7.7,
          7.800000000000001,
          7.9,
          8,
          8.1,
          8.200000000000001,
          8.3,
          8.4,
          8.5,
          8.6,
          8.700000000000001,
          8.8,
          8.9,
          9,
          9.1,
          9.200000000000001,
          9.3,
          9.4,
          9.5,
          9.600000000000001,
          9.700000000000001,
          9.8,
          9.9
         ],
         "y": [
          1,
          0.9950041652780258,
          0.9800665778412416,
          0.955336489125606,
          0.9210609940028851,
          0.8775825618903728,
          0.8253356149096782,
          0.7648421872844884,
          0.6967067093471654,
          0.6216099682706644,
          0.5403023058681398,
          0.4535961214255773,
          0.3623577544766734,
          0.26749882862458735,
          0.16996714290024081,
          0.0707372016677029,
          -0.029199522301288815,
          -0.12884449429552486,
          -0.2272020946930871,
          -0.3232895668635036,
          -0.4161468365471424,
          -0.5048461045998576,
          -0.5885011172553458,
          -0.6662760212798244,
          -0.7373937155412458,
          -0.8011436155469337,
          -0.8568887533689473,
          -0.9040721420170612,
          -0.9422223406686583,
          -0.9709581651495907,
          -0.9899924966004454,
          -0.9991351502732795,
          -0.9982947757947531,
          -0.9874797699088649,
          -0.9667981925794609,
          -0.9364566872907963,
          -0.896758416334147,
          -0.848100031710408,
          -0.7909677119144165,
          -0.7259323042001399,
          -0.6536436208636119,
          -0.5748239465332685,
          -0.4902608213406994,
          -0.40079917207997545,
          -0.30733286997841935,
          -0.2107957994307797,
          -0.11215252693505398,
          -0.01238866346289056,
          0.08749898343944727,
          0.18651236942257576,
          0.28366218546322625,
          0.37797774271298107,
          0.4685166713003771,
          0.5543743361791615,
          0.6346928759426347,
          0.70866977429126,
          0.7755658785102502,
          0.8347127848391598,
          0.8855195169413194,
          0.9274784307440359,
          0.960170286650366,
          0.9832684384425847,
          0.9965420970232175,
          0.9998586363834151,
          0.9931849187581926,
          0.9765876257280235,
          0.9502325919585293,
          0.9143831482353194,
          0.8693974903498248,
          0.8157251001253568,
          0.7539022543433046,
          0.6845466664428059,
          0.6083513145322546,
          0.5260775173811045,
          0.43854732757439036,
          0.3466353178350258,
          0.25125984258225487,
          0.15337386203786435,
          0.05395542056264886,
          -0.04600212563953695,
          -0.14550003380861354,
          -0.2435441537357911,
          -0.33915486098383624,
          -0.4313768449706208,
          -0.5192886541166856,
          -0.6020119026848236,
          -0.6787200473200125,
          -0.7486466455973999,
          -0.811093014061656,
          -0.8654352092411123,
          -0.9111302618846769,
          -0.9477216021311119,
          -0.974843621404164,
          -0.9922253254526034,
          -0.9996930420352065,
          -0.9971721561963784,
          -0.9846878557941267,
          -0.9623648798313097,
          -0.9304262721047533,
          -0.8891911526253609
         ]
        },
        {
         "type": "scatter",
         "x": [
          0,
          0.1,
          0.2,
          0.30000000000000004,
          0.4,
          0.5,
          0.6000000000000001,
          0.7000000000000001,
          0.8,
          0.9,
          1,
          1.1,
          1.2000000000000002,
          1.3,
          1.4000000000000001,
          1.5,
          1.6,
          1.7000000000000002,
          1.8,
          1.9000000000000001,
          2,
          2.1,
          2.2,
          2.3000000000000003,
          2.4000000000000004,
          2.5,
          2.6,
          2.7,
          2.8000000000000003,
          2.9000000000000004,
          3,
          3.1,
          3.2,
          3.3000000000000003,
          3.4000000000000004,
          3.5,
          3.6,
          3.7,
          3.8000000000000003,
          3.9000000000000004,
          4,
          4.1000000000000005,
          4.2,
          4.3,
          4.4,
          4.5,
          4.6000000000000005,
          4.7,
          4.800000000000001,
          4.9,
          5,
          5.1000000000000005,
          5.2,
          5.300000000000001,
          5.4,
          5.5,
          5.6000000000000005,
          5.7,
          5.800000000000001,
          5.9,
          6,
          6.1000000000000005,
          6.2,
          6.300000000000001,
          6.4,
          6.5,
          6.6000000000000005,
          6.7,
          6.800000000000001,
          6.9,
          7,
          7.1000000000000005,
          7.2,
          7.300000000000001,
          7.4,
          7.5,
          7.6000000000000005,
          7.7,
          7.800000000000001,
          7.9,
          8,
          8.1,
          8.200000000000001,
          8.3,
          8.4,
          8.5,
          8.6,
          8.700000000000001,
          8.8,
          8.9,
          9,
          9.1,
          9.200000000000001,
          9.3,
          9.4,
          9.5,
          9.600000000000001,
          9.700000000000001,
          9.8,
          9.9
         ],
         "y": [
          0,
          0.09983341664682815,
          0.19866933079506122,
          0.2955202066613396,
          0.3894183423086505,
          0.479425538604203,
          0.5646424733950355,
          0.6442176872376911,
          0.7173560908995228,
          0.7833269096274834,
          0.8414709848078965,
          0.8912073600614354,
          0.9320390859672264,
          0.963558185417193,
          0.9854497299884603,
          0.9974949866040544,
          0.9995736030415051,
          0.9916648104524686,
          0.9738476308781951,
          0.9463000876874145,
          0.9092974268256817,
          0.8632093666488737,
          0.8084964038195901,
          0.74570521217672,
          0.6754631805511506,
          0.5984721441039565,
          0.5155013718214642,
          0.4273798802338298,
          0.33498815015590466,
          0.23924932921398198,
          0.1411200080598672,
          0.04158066243329049,
          -0.058374143427580086,
          -0.15774569414324865,
          -0.25554110202683167,
          -0.35078322768961984,
          -0.44252044329485246,
          -0.5298361409084934,
          -0.6118578909427193,
          -0.6877661591839741,
          -0.7568024953079282,
          -0.8182771110644108,
          -0.8715757724135882,
          -0.9161659367494549,
          -0.951602073889516,
          -0.977530117665097,
          -0.9936910036334645,
          -0.9999232575641008,
          -0.9961646088358406,
          -0.9824526126243325,
          -0.9589242746631385,
          -0.9258146823277321,
          -0.8834546557201531,
          -0.8322674422239008,
          -0.7727644875559871,
          -0.7055403255703919,
          -0.6312666378723208,
          -0.5506855425976376,
          -0.4646021794137566,
          -0.373876664830236,
          -0.27941549819892586,
          -0.18216250427209502,
          -0.0830894028174964,
          0.0168139004843506,
          0.11654920485049364,
          0.21511998808781552,
          0.3115413635133787,
          0.4048499206165983,
          0.49411335113860894,
          0.5784397643882001,
          0.6569865987187891,
          0.7289690401258765,
          0.7936678638491531,
          0.8504366206285648,
          0.8987080958116269,
          0.9379999767747389,
          0.9679196720314865,
          0.9881682338770004,
          0.998543345374605,
          0.998941341839772,
          0.9893582466233818,
          0.9698898108450863,
          0.9407305566797726,
          0.9021718337562933,
          0.8545989080882804,
          0.7984871126234903,
          0.7343970978741133,
          0.662969230082182,
          0.5849171928917617,
          0.5010208564578846,
          0.4121184852417566,
          0.3190983623493521,
          0.22288991410024592,
          0.1244544235070617,
          0.024775425453357765,
          -0.0751511204618093,
          -0.1743267812229814,
          -0.2717606264109442,
          -0.3664791292519284,
          -0.45753589377532133
         ]
        }
       ],
       "layout": {
        "autosize": true,
        "legend": {
         "tracegroupgap": 0
        },
        "margin": {
         "t": 60
        },
        "template": {
         "data": {
          "bar": [
           {
            "error_x": {
             "color": "#2a3f5f"
            },
            "error_y": {
             "color": "#2a3f5f"
            },
            "marker": {
             "line": {
              "color": "#E5ECF6",
              "width": 0.5
             },
             "pattern": {
              "fillmode": "overlay",
              "size": 10,
              "solidity": 0.2
             }
            },
            "type": "bar"
           }
          ],
          "barpolar": [
           {
            "marker": {
             "line": {
              "color": "#E5ECF6",
              "width": 0.5
             },
             "pattern": {
              "fillmode": "overlay",
              "size": 10,
              "solidity": 0.2
             }
            },
            "type": "barpolar"
           }
          ],
          "carpet": [
           {
            "aaxis": {
             "endlinecolor": "#2a3f5f",
             "gridcolor": "white",
             "linecolor": "white",
             "minorgridcolor": "white",
             "startlinecolor": "#2a3f5f"
            },
            "baxis": {
             "endlinecolor": "#2a3f5f",
             "gridcolor": "white",
             "linecolor": "white",
             "minorgridcolor": "white",
             "startlinecolor": "#2a3f5f"
            },
            "type": "carpet"
           }
          ],
          "choropleth": [
           {
            "colorbar": {
             "outlinewidth": 0,
             "ticks": ""
            },
            "type": "choropleth"
           }
          ],
          "contour": [
           {
            "colorbar": {
             "outlinewidth": 0,
             "ticks": ""
            },
            "colorscale": [
             [
              0,
              "#0d0887"
             ],
             [
              0.1111111111111111,
              "#46039f"
             ],
             [
              0.2222222222222222,
              "#7201a8"
             ],
             [
              0.3333333333333333,
              "#9c179e"
             ],
             [
              0.4444444444444444,
              "#bd3786"
             ],
             [
              0.5555555555555556,
              "#d8576b"
             ],
             [
              0.6666666666666666,
              "#ed7953"
             ],
             [
              0.7777777777777778,
              "#fb9f3a"
             ],
             [
              0.8888888888888888,
              "#fdca26"
             ],
             [
              1,
              "#f0f921"
             ]
            ],
            "type": "contour"
           }
          ],
          "contourcarpet": [
           {
            "colorbar": {
             "outlinewidth": 0,
             "ticks": ""
            },
            "type": "contourcarpet"
           }
          ],
          "heatmap": [
           {
            "colorbar": {
             "outlinewidth": 0,
             "ticks": ""
            },
            "colorscale": [
             [
              0,
              "#0d0887"
             ],
             [
              0.1111111111111111,
              "#46039f"
             ],
             [
              0.2222222222222222,
              "#7201a8"
             ],
             [
              0.3333333333333333,
              "#9c179e"
             ],
             [
              0.4444444444444444,
              "#bd3786"
             ],
             [
              0.5555555555555556,
              "#d8576b"
             ],
             [
              0.6666666666666666,
              "#ed7953"
             ],
             [
              0.7777777777777778,
              "#fb9f3a"
             ],
             [
              0.8888888888888888,
              "#fdca26"
             ],
             [
              1,
              "#f0f921"
             ]
            ],
            "type": "heatmap"
           }
          ],
          "heatmapgl": [
           {
            "colorbar": {
             "outlinewidth": 0,
             "ticks": ""
            },
            "colorscale": [
             [
              0,
              "#0d0887"
             ],
             [
              0.1111111111111111,
              "#46039f"
             ],
             [
              0.2222222222222222,
              "#7201a8"
             ],
             [
              0.3333333333333333,
              "#9c179e"
             ],
             [
              0.4444444444444444,
              "#bd3786"
             ],
             [
              0.5555555555555556,
              "#d8576b"
             ],
             [
              0.6666666666666666,
              "#ed7953"
             ],
             [
              0.7777777777777778,
              "#fb9f3a"
             ],
             [
              0.8888888888888888,
              "#fdca26"
             ],
             [
              1,
              "#f0f921"
             ]
            ],
            "type": "heatmapgl"
           }
          ],
          "histogram": [
           {
            "marker": {
             "pattern": {
              "fillmode": "overlay",
              "size": 10,
              "solidity": 0.2
             }
            },
            "type": "histogram"
           }
          ],
          "histogram2d": [
           {
            "colorbar": {
             "outlinewidth": 0,
             "ticks": ""
            },
            "colorscale": [
             [
              0,
              "#0d0887"
             ],
             [
              0.1111111111111111,
              "#46039f"
             ],
             [
              0.2222222222222222,
              "#7201a8"
             ],
             [
              0.3333333333333333,
              "#9c179e"
             ],
             [
              0.4444444444444444,
              "#bd3786"
             ],
             [
              0.5555555555555556,
              "#d8576b"
             ],
             [
              0.6666666666666666,
              "#ed7953"
             ],
             [
              0.7777777777777778,
              "#fb9f3a"
             ],
             [
              0.8888888888888888,
              "#fdca26"
             ],
             [
              1,
              "#f0f921"
             ]
            ],
            "type": "histogram2d"
           }
          ],
          "histogram2dcontour": [
           {
            "colorbar": {
             "outlinewidth": 0,
             "ticks": ""
            },
            "colorscale": [
             [
              0,
              "#0d0887"
             ],
             [
              0.1111111111111111,
              "#46039f"
             ],
             [
              0.2222222222222222,
              "#7201a8"
             ],
             [
              0.3333333333333333,
              "#9c179e"
             ],
             [
              0.4444444444444444,
              "#bd3786"
             ],
             [
              0.5555555555555556,
              "#d8576b"
             ],
             [
              0.6666666666666666,
              "#ed7953"
             ],
             [
              0.7777777777777778,
              "#fb9f3a"
             ],
             [
              0.8888888888888888,
              "#fdca26"
             ],
             [
              1,
              "#f0f921"
             ]
            ],
            "type": "histogram2dcontour"
           }
          ],
          "mesh3d": [
           {
            "colorbar": {
             "outlinewidth": 0,
             "ticks": ""
            },
            "type": "mesh3d"
           }
          ],
          "parcoords": [
           {
            "line": {
             "colorbar": {
              "outlinewidth": 0,
              "ticks": ""
             }
            },
            "type": "parcoords"
           }
          ],
          "pie": [
           {
            "automargin": true,
            "type": "pie"
           }
          ],
          "scatter": [
           {
            "fillpattern": {
             "fillmode": "overlay",
             "size": 10,
             "solidity": 0.2
            },
            "type": "scatter"
           }
          ],
          "scatter3d": [
           {
            "line": {
             "colorbar": {
              "outlinewidth": 0,
              "ticks": ""
             }
            },
            "marker": {
             "colorbar": {
              "outlinewidth": 0,
              "ticks": ""
             }
            },
            "type": "scatter3d"
           }
          ],
          "scattercarpet": [
           {
            "marker": {
             "colorbar": {
              "outlinewidth": 0,
              "ticks": ""
             }
            },
            "type": "scattercarpet"
           }
          ],
          "scattergeo": [
           {
            "marker": {
             "colorbar": {
              "outlinewidth": 0,
              "ticks": ""
             }
            },
            "type": "scattergeo"
           }
          ],
          "scattergl": [
           {
            "marker": {
             "colorbar": {
              "outlinewidth": 0,
              "ticks": ""
             }
            },
            "type": "scattergl"
           }
          ],
          "scattermapbox": [
           {
            "marker": {
             "colorbar": {
              "outlinewidth": 0,
              "ticks": ""
             }
            },
            "type": "scattermapbox"
           }
          ],
          "scatterpolar": [
           {
            "marker": {
             "colorbar": {
              "outlinewidth": 0,
              "ticks": ""
             }
            },
            "type": "scatterpolar"
           }
          ],
          "scatterpolargl": [
           {
            "marker": {
             "colorbar": {
              "outlinewidth": 0,
              "ticks": ""
             }
            },
            "type": "scatterpolargl"
           }
          ],
          "scatterternary": [
           {
            "marker": {
             "colorbar": {
              "outlinewidth": 0,
              "ticks": ""
             }
            },
            "type": "scatterternary"
           }
          ],
          "surface": [
           {
            "colorbar": {
             "outlinewidth": 0,
             "ticks": ""
            },
            "colorscale": [
             [
              0,
              "#0d0887"
             ],
             [
              0.1111111111111111,
              "#46039f"
             ],
             [
              0.2222222222222222,
              "#7201a8"
             ],
             [
              0.3333333333333333,
              "#9c179e"
             ],
             [
              0.4444444444444444,
              "#bd3786"
             ],
             [
              0.5555555555555556,
              "#d8576b"
             ],
             [
              0.6666666666666666,
              "#ed7953"
             ],
             [
              0.7777777777777778,
              "#fb9f3a"
             ],
             [
              0.8888888888888888,
              "#fdca26"
             ],
             [
              1,
              "#f0f921"
             ]
            ],
            "type": "surface"
           }
          ],
          "table": [
           {
            "cells": {
             "fill": {
              "color": "#EBF0F8"
             },
             "line": {
              "color": "white"
             }
            },
            "header": {
             "fill": {
              "color": "#C8D4E3"
             },
             "line": {
              "color": "white"
             }
            },
            "type": "table"
           }
          ]
         },
         "layout": {
          "annotationdefaults": {
           "arrowcolor": "#2a3f5f",
           "arrowhead": 0,
           "arrowwidth": 1
          },
          "autotypenumbers": "strict",
          "coloraxis": {
           "colorbar": {
            "outlinewidth": 0,
            "ticks": ""
           }
          },
          "colorscale": {
           "diverging": [
            [
             0,
             "#8e0152"
            ],
            [
             0.1,
             "#c51b7d"
            ],
            [
             0.2,
             "#de77ae"
            ],
            [
             0.3,
             "#f1b6da"
            ],
            [
             0.4,
             "#fde0ef"
            ],
            [
             0.5,
             "#f7f7f7"
            ],
            [
             0.6,
             "#e6f5d0"
            ],
            [
             0.7,
             "#b8e186"
            ],
            [
             0.8,
             "#7fbc41"
            ],
            [
             0.9,
             "#4d9221"
            ],
            [
             1,
             "#276419"
            ]
           ],
           "sequential": [
            [
             0,
             "#0d0887"
            ],
            [
             0.1111111111111111,
             "#46039f"
            ],
            [
             0.2222222222222222,
             "#7201a8"
            ],
            [
             0.3333333333333333,
             "#9c179e"
            ],
            [
             0.4444444444444444,
             "#bd3786"
            ],
            [
             0.5555555555555556,
             "#d8576b"
            ],
            [
             0.6666666666666666,
             "#ed7953"
            ],
            [
             0.7777777777777778,
             "#fb9f3a"
            ],
            [
             0.8888888888888888,
             "#fdca26"
            ],
            [
             1,
             "#f0f921"
            ]
           ],
           "sequentialminus": [
            [
             0,
             "#0d0887"
            ],
            [
             0.1111111111111111,
             "#46039f"
            ],
            [
             0.2222222222222222,
             "#7201a8"
            ],
            [
             0.3333333333333333,
             "#9c179e"
            ],
            [
             0.4444444444444444,
             "#bd3786"
            ],
            [
             0.5555555555555556,
             "#d8576b"
            ],
            [
             0.6666666666666666,
             "#ed7953"
            ],
            [
             0.7777777777777778,
             "#fb9f3a"
            ],
            [
             0.8888888888888888,
             "#fdca26"
            ],
            [
             1,
             "#f0f921"
            ]
           ]
          },
          "colorway": [
           "#636efa",
           "#EF553B",
           "#00cc96",
           "#ab63fa",
           "#FFA15A",
           "#19d3f3",
           "#FF6692",
           "#B6E880",
           "#FF97FF",
           "#FECB52"
          ],
          "font": {
           "color": "#2a3f5f"
          },
          "geo": {
           "bgcolor": "white",
           "lakecolor": "white",
           "landcolor": "#E5ECF6",
           "showlakes": true,
           "showland": true,
           "subunitcolor": "white"
          },
          "hoverlabel": {
           "align": "left"
          },
          "hovermode": "closest",
          "mapbox": {
           "style": "light"
          },
          "paper_bgcolor": "white",
          "plot_bgcolor": "#E5ECF6",
          "polar": {
           "angularaxis": {
            "gridcolor": "white",
            "linecolor": "white",
            "ticks": ""
           },
           "bgcolor": "#E5ECF6",
           "radialaxis": {
            "gridcolor": "white",
            "linecolor": "white",
            "ticks": ""
           }
          },
          "scene": {
           "xaxis": {
            "backgroundcolor": "#E5ECF6",
            "gridcolor": "white",
            "gridwidth": 2,
            "linecolor": "white",
            "showbackground": true,
            "ticks": "",
            "zerolinecolor": "white"
           },
           "yaxis": {
            "backgroundcolor": "#E5ECF6",
            "gridcolor": "white",
            "gridwidth": 2,
            "linecolor": "white",
            "showbackground": true,
            "ticks": "",
            "zerolinecolor": "white"
           },
           "zaxis": {
            "backgroundcolor": "#E5ECF6",
            "gridcolor": "white",
            "gridwidth": 2,
            "linecolor": "white",
            "showbackground": true,
            "ticks": "",
            "zerolinecolor": "white"
           }
          },
          "shapedefaults": {
           "line": {
            "color": "#2a3f5f"
           }
          },
          "ternary": {
           "aaxis": {
            "gridcolor": "white",
            "linecolor": "white",
            "ticks": ""
           },
           "baxis": {
            "gridcolor": "white",
            "linecolor": "white",
            "ticks": ""
           },
           "bgcolor": "#E5ECF6",
           "caxis": {
            "gridcolor": "white",
            "linecolor": "white",
            "ticks": ""
           }
          },
          "title": {
           "x": 0.05
          },
          "xaxis": {
           "automargin": true,
           "gridcolor": "white",
           "linecolor": "white",
           "ticks": "",
           "title": {
            "standoff": 15
           },
           "zerolinecolor": "white",
           "zerolinewidth": 2
          },
          "yaxis": {
           "automargin": true,
           "gridcolor": "white",
           "linecolor": "white",
           "ticks": "",
           "title": {
            "standoff": 15
           },
           "zerolinecolor": "white",
           "zerolinewidth": 2
          }
         }
        },
        "xaxis": {
         "anchor": "y",
         "autorange": true,
         "domain": [
          0,
          1
         ],
         "range": [
          -0.5928082191780822,
          10.492808219178082
         ],
         "title": {
          "text": "x"
         },
         "type": "linear"
        },
        "yaxis": {
         "anchor": "x",
         "autorange": true,
         "domain": [
          0,
          1
         ],
         "range": [
          -1.1547399436214902,
          1.1543902890988946
         ],
         "title": {
          "text": "y"
         },
         "type": "linear"
        }
       }
      },
      "image/png": "[encoded data removed]",
      "text/html": [
       "<div>                            <div id=\"06abd966-16f2-40ea-97f9-bc64df2b5457\" class=\"plotly-graph-div\" style=\"height:525px; width:100%;\"></div>            <script type=\"text/javascript\">                require([\"plotly\"], function(Plotly) {                    window.PLOTLYENV=window.PLOTLYENV || {};                                    if (document.getElementById(\"06abd966-16f2-40ea-97f9-bc64df2b5457\")) {                    Plotly.newPlot(                        \"06abd966-16f2-40ea-97f9-bc64df2b5457\",                        [{\"hovertemplate\":\"x=%{x}\\u003cbr\\u003ey=%{y}\\u003cextra\\u003e\\u003c\\u002fextra\\u003e\",\"legendgroup\":\"\",\"marker\":{\"color\":\"#636efa\",\"symbol\":\"circle\"},\"mode\":\"markers\",\"name\":\"\",\"orientation\":\"v\",\"showlegend\":false,\"x\":[0.0,0.1,0.2,0.30000000000000004,0.4,0.5,0.6000000000000001,0.7000000000000001,0.8,0.9,1.0,1.1,1.2000000000000002,1.3,1.4000000000000001,1.5,1.6,1.7000000000000002,1.8,1.9000000000000001,2.0,2.1,2.2,2.3000000000000003,2.4000000000000004,2.5,2.6,2.7,2.8000000000000003,2.9000000000000004,3.0,3.1,3.2,3.3000000000000003,3.4000000000000004,3.5,3.6,3.7,3.8000000000000003,3.9000000000000004,4.0,4.1000000000000005,4.2,4.3,4.4,4.5,4.6000000000000005,4.7,4.800000000000001,4.9,5.0,5.1000000000000005,5.2,5.300000000000001,5.4,5.5,5.6000000000000005,5.7,5.800000000000001,5.9,6.0,6.1000000000000005,6.2,6.300000000000001,6.4,6.5,6.6000000000000005,6.7,6.800000000000001,6.9,7.0,7.1000000000000005,7.2,7.300000000000001,7.4,7.5,7.6000000000000005,7.7,7.800000000000001,7.9,8.0,8.1,8.200000000000001,8.3,8.4,8.5,8.6,8.700000000000001,8.8,8.9,9.0,9.1,9.200000000000001,9.3,9.4,9.5,9.600000000000001,9.700000000000001,9.8,9.9],\"xaxis\":\"x\",\"y\":[0.0,0.09983341664682815,0.19866933079506122,0.2955202066613396,0.3894183423086505,0.479425538604203,0.5646424733950355,0.6442176872376911,0.7173560908995228,0.7833269096274834,0.8414709848078965,0.8912073600614354,0.9320390859672264,0.963558185417193,0.9854497299884603,0.9974949866040544,0.9995736030415051,0.9916648104524686,0.9738476308781951,0.9463000876874145,0.9092974268256817,0.8632093666488737,0.8084964038195901,0.74570521217672,0.6754631805511506,0.5984721441039565,0.5155013718214642,0.4273798802338298,0.33498815015590466,0.23924932921398198,0.1411200080598672,0.04158066243329049,-0.058374143427580086,-0.15774569414324865,-0.25554110202683167,-0.35078322768961984,-0.44252044329485246,-0.5298361409084934,-0.6118578909427193,-0.6877661591839741,-0.7568024953079282,-0.8182771110644108,-0.8715757724135882,-0.9161659367494549,-0.951602073889516,-0.977530117665097,-0.9936910036334645,-0.9999232575641008,-0.9961646088358406,-0.9824526126243325,-0.9589242746631385,-0.9258146823277321,-0.8834546557201531,-0.8322674422239008,-0.7727644875559871,-0.7055403255703919,-0.6312666378723208,-0.5506855425976376,-0.4646021794137566,-0.373876664830236,-0.27941549819892586,-0.18216250427209502,-0.0830894028174964,0.0168139004843506,0.11654920485049364,0.21511998808781552,0.3115413635133787,0.4048499206165983,0.49411335113860894,0.5784397643882001,0.6569865987187891,0.7289690401258765,0.7936678638491531,0.8504366206285648,0.8987080958116269,0.9379999767747389,0.9679196720314865,0.9881682338770004,0.998543345374605,0.998941341839772,0.9893582466233818,0.9698898108450863,0.9407305566797726,0.9021718337562933,0.8545989080882804,0.7984871126234903,0.7343970978741133,0.662969230082182,0.5849171928917617,0.5010208564578846,0.4121184852417566,0.3190983623493521,0.22288991410024592,0.1244544235070617,0.024775425453357765,-0.0751511204618093,-0.1743267812229814,-0.2717606264109442,-0.3664791292519284,-0.45753589377532133],\"yaxis\":\"y\",\"type\":\"scatter\"},{\"x\":[0.0,0.1,0.2,0.30000000000000004,0.4,0.5,0.6000000000000001,0.7000000000000001,0.8,0.9,1.0,1.1,1.2000000000000002,1.3,1.4000000000000001,1.5,1.6,1.7000000000000002,1.8,1.9000000000000001,2.0,2.1,2.2,2.3000000000000003,2.4000000000000004,2.5,2.6,2.7,2.8000000000000003,2.9000000000000004,3.0,3.1,3.2,3.3000000000000003,3.4000000000000004,3.5,3.6,3.7,3.8000000000000003,3.9000000000000004,4.0,4.1000000000000005,4.2,4.3,4.4,4.5,4.6000000000000005,4.7,4.800000000000001,4.9,5.0,5.1000000000000005,5.2,5.300000000000001,5.4,5.5,5.6000000000000005,5.7,5.800000000000001,5.9,6.0,6.1000000000000005,6.2,6.300000000000001,6.4,6.5,6.6000000000000005,6.7,6.800000000000001,6.9,7.0,7.1000000000000005,7.2,7.300000000000001,7.4,7.5,7.6000000000000005,7.7,7.800000000000001,7.9,8.0,8.1,8.200000000000001,8.3,8.4,8.5,8.6,8.700000000000001,8.8,8.9,9.0,9.1,9.200000000000001,9.3,9.4,9.5,9.600000000000001,9.700000000000001,9.8,9.9],\"y\":[1.0,0.9950041652780258,0.9800665778412416,0.955336489125606,0.9210609940028851,0.8775825618903728,0.8253356149096782,0.7648421872844884,0.6967067093471654,0.6216099682706644,0.5403023058681398,0.4535961214255773,0.3623577544766734,0.26749882862458735,0.16996714290024081,0.0707372016677029,-0.029199522301288815,-0.12884449429552486,-0.2272020946930871,-0.3232895668635036,-0.4161468365471424,-0.5048461045998576,-0.5885011172553458,-0.6662760212798244,-0.7373937155412458,-0.8011436155469337,-0.8568887533689473,-0.9040721420170612,-0.9422223406686583,-0.9709581651495907,-0.9899924966004454,-0.9991351502732795,-0.9982947757947531,-0.9874797699088649,-0.9667981925794609,-0.9364566872907963,-0.896758416334147,-0.848100031710408,-0.7909677119144165,-0.7259323042001399,-0.6536436208636119,-0.5748239465332685,-0.4902608213406994,-0.40079917207997545,-0.30733286997841935,-0.2107957994307797,-0.11215252693505398,-0.01238866346289056,0.08749898343944727,0.18651236942257576,0.28366218546322625,0.37797774271298107,0.4685166713003771,0.5543743361791615,0.6346928759426347,0.70866977429126,0.7755658785102502,0.8347127848391598,0.8855195169413194,0.9274784307440359,0.960170286650366,0.9832684384425847,0.9965420970232175,0.9998586363834151,0.9931849187581926,0.9765876257280235,0.9502325919585293,0.9143831482353194,0.8693974903498248,0.8157251001253568,0.7539022543433046,0.6845466664428059,0.6083513145322546,0.5260775173811045,0.43854732757439036,0.3466353178350258,0.25125984258225487,0.15337386203786435,0.05395542056264886,-0.04600212563953695,-0.14550003380861354,-0.2435441537357911,-0.33915486098383624,-0.4313768449706208,-0.5192886541166856,-0.6020119026848236,-0.6787200473200125,-0.7486466455973999,-0.811093014061656,-0.8654352092411123,-0.9111302618846769,-0.9477216021311119,-0.974843621404164,-0.9922253254526034,-0.9996930420352065,-0.9971721561963784,-0.9846878557941267,-0.9623648798313097,-0.9304262721047533,-0.8891911526253609],\"type\":\"scatter\"},{\"x\":[0.0,0.1,0.2,0.30000000000000004,0.4,0.5,0.6000000000000001,0.7000000000000001,0.8,0.9,1.0,1.1,1.2000000000000002,1.3,1.4000000000000001,1.5,1.6,1.7000000000000002,1.8,1.9000000000000001,2.0,2.1,2.2,2.3000000000000003,2.4000000000000004,2.5,2.6,2.7,2.8000000000000003,2.9000000000000004,3.0,3.1,3.2,3.3000000000000003,3.4000000000000004,3.5,3.6,3.7,3.8000000000000003,3.9000000000000004,4.0,4.1000000000000005,4.2,4.3,4.4,4.5,4.6000000000000005,4.7,4.800000000000001,4.9,5.0,5.1000000000000005,5.2,5.300000000000001,5.4,5.5,5.6000000000000005,5.7,5.800000000000001,5.9,6.0,6.1000000000000005,6.2,6.300000000000001,6.4,6.5,6.6000000000000005,6.7,6.800000000000001,6.9,7.0,7.1000000000000005,7.2,7.300000000000001,7.4,7.5,7.6000000000000005,7.7,7.800000000000001,7.9,8.0,8.1,8.200000000000001,8.3,8.4,8.5,8.6,8.700000000000001,8.8,8.9,9.0,9.1,9.200000000000001,9.3,9.4,9.5,9.600000000000001,9.700000000000001,9.8,9.9],\"y\":[0.0,0.09983341664682815,0.19866933079506122,0.2955202066613396,0.3894183423086505,0.479425538604203,0.5646424733950355,0.6442176872376911,0.7173560908995228,0.7833269096274834,0.8414709848078965,0.8912073600614354,0.9320390859672264,0.963558185417193,0.9854497299884603,0.9974949866040544,0.9995736030415051,0.9916648104524686,0.9738476308781951,0.9463000876874145,0.9092974268256817,0.8632093666488737,0.8084964038195901,0.74570521217672,0.6754631805511506,0.5984721441039565,0.5155013718214642,0.4273798802338298,0.33498815015590466,0.23924932921398198,0.1411200080598672,0.04158066243329049,-0.058374143427580086,-0.15774569414324865,-0.25554110202683167,-0.35078322768961984,-0.44252044329485246,-0.5298361409084934,-0.6118578909427193,-0.6877661591839741,-0.7568024953079282,-0.8182771110644108,-0.8715757724135882,-0.9161659367494549,-0.951602073889516,-0.977530117665097,-0.9936910036334645,-0.9999232575641008,-0.9961646088358406,-0.9824526126243325,-0.9589242746631385,-0.9258146823277321,-0.8834546557201531,-0.8322674422239008,-0.7727644875559871,-0.7055403255703919,-0.6312666378723208,-0.5506855425976376,-0.4646021794137566,-0.373876664830236,-0.27941549819892586,-0.18216250427209502,-0.0830894028174964,0.0168139004843506,0.11654920485049364,0.21511998808781552,0.3115413635133787,0.4048499206165983,0.49411335113860894,0.5784397643882001,0.6569865987187891,0.7289690401258765,0.7936678638491531,0.8504366206285648,0.8987080958116269,0.9379999767747389,0.9679196720314865,0.9881682338770004,0.998543345374605,0.998941341839772,0.9893582466233818,0.9698898108450863,0.9407305566797726,0.9021718337562933,0.8545989080882804,0.7984871126234903,0.7343970978741133,0.662969230082182,0.5849171928917617,0.5010208564578846,0.4121184852417566,0.3190983623493521,0.22288991410024592,0.1244544235070617,0.024775425453357765,-0.0751511204618093,-0.1743267812229814,-0.2717606264109442,-0.3664791292519284,-0.45753589377532133],\"type\":\"scatter\"}],                        {\"template\":{\"data\":{\"histogram2dcontour\":[{\"type\":\"histogram2dcontour\",\"colorbar\":{\"outlinewidth\":0,\"ticks\":\"\"},\"colorscale\":[[0.0,\"#0d0887\"],[0.1111111111111111,\"#46039f\"],[0.2222222222222222,\"#7201a8\"],[0.3333333333333333,\"#9c179e\"],[0.4444444444444444,\"#bd3786\"],[0.5555555555555556,\"#d8576b\"],[0.6666666666666666,\"#ed7953\"],[0.7777777777777778,\"#fb9f3a\"],[0.8888888888888888,\"#fdca26\"],[1.0,\"#f0f921\"]]}],\"choropleth\":[{\"type\":\"choropleth\",\"colorbar\":{\"outlinewidth\":0,\"ticks\":\"\"}}],\"histogram2d\":[{\"type\":\"histogram2d\",\"colorbar\":{\"outlinewidth\":0,\"ticks\":\"\"},\"colorscale\":[[0.0,\"#0d0887\"],[0.1111111111111111,\"#46039f\"],[0.2222222222222222,\"#7201a8\"],[0.3333333333333333,\"#9c179e\"],[0.4444444444444444,\"#bd3786\"],[0.5555555555555556,\"#d8576b\"],[0.6666666666666666,\"#ed7953\"],[0.7777777777777778,\"#fb9f3a\"],[0.8888888888888888,\"#fdca26\"],[1.0,\"#f0f921\"]]}],\"heatmap\":[{\"type\":\"heatmap\",\"colorbar\":{\"outlinewidth\":0,\"ticks\":\"\"},\"colorscale\":[[0.0,\"#0d0887\"],[0.1111111111111111,\"#46039f\"],[0.2222222222222222,\"#7201a8\"],[0.3333333333333333,\"#9c179e\"],[0.4444444444444444,\"#bd3786\"],[0.5555555555555556,\"#d8576b\"],[0.6666666666666666,\"#ed7953\"],[0.7777777777777778,\"#fb9f3a\"],[0.8888888888888888,\"#fdca26\"],[1.0,\"#f0f921\"]]}],\"heatmapgl\":[{\"type\":\"heatmapgl\",\"colorbar\":{\"outlinewidth\":0,\"ticks\":\"\"},\"colorscale\":[[0.0,\"#0d0887\"],[0.1111111111111111,\"#46039f\"],[0.2222222222222222,\"#7201a8\"],[0.3333333333333333,\"#9c179e\"],[0.4444444444444444,\"#bd3786\"],[0.5555555555555556,\"#d8576b\"],[0.6666666666666666,\"#ed7953\"],[0.7777777777777778,\"#fb9f3a\"],[0.8888888888888888,\"#fdca26\"],[1.0,\"#f0f921\"]]}],\"contourcarpet\":[{\"type\":\"contourcarpet\",\"colorbar\":{\"outlinewidth\":0,\"ticks\":\"\"}}],\"contour\":[{\"type\":\"contour\",\"colorbar\":{\"outlinewidth\":0,\"ticks\":\"\"},\"colorscale\":[[0.0,\"#0d0887\"],[0.1111111111111111,\"#46039f\"],[0.2222222222222222,\"#7201a8\"],[0.3333333333333333,\"#9c179e\"],[0.4444444444444444,\"#bd3786\"],[0.5555555555555556,\"#d8576b\"],[0.6666666666666666,\"#ed7953\"],[0.7777777777777778,\"#fb9f3a\"],[0.8888888888888888,\"#fdca26\"],[1.0,\"#f0f921\"]]}],\"surface\":[{\"type\":\"surface\",\"colorbar\":{\"outlinewidth\":0,\"ticks\":\"\"},\"colorscale\":[[0.0,\"#0d0887\"],[0.1111111111111111,\"#46039f\"],[0.2222222222222222,\"#7201a8\"],[0.3333333333333333,\"#9c179e\"],[0.4444444444444444,\"#bd3786\"],[0.5555555555555556,\"#d8576b\"],[0.6666666666666666,\"#ed7953\"],[0.7777777777777778,\"#fb9f3a\"],[0.8888888888888888,\"#fdca26\"],[1.0,\"#f0f921\"]]}],\"mesh3d\":[{\"type\":\"mesh3d\",\"colorbar\":{\"outlinewidth\":0,\"ticks\":\"\"}}],\"scatter\":[{\"fillpattern\":{\"fillmode\":\"overlay\",\"size\":10,\"solidity\":0.2},\"type\":\"scatter\"}],\"parcoords\":[{\"type\":\"parcoords\",\"line\":{\"colorbar\":{\"outlinewidth\":0,\"ticks\":\"\"}}}],\"scatterpolargl\":[{\"type\":\"scatterpolargl\",\"marker\":{\"colorbar\":{\"outlinewidth\":0,\"ticks\":\"\"}}}],\"bar\":[{\"error_x\":{\"color\":\"#2a3f5f\"},\"error_y\":{\"color\":\"#2a3f5f\"},\"marker\":{\"line\":{\"color\":\"#E5ECF6\",\"width\":0.5},\"pattern\":{\"fillmode\":\"overlay\",\"size\":10,\"solidity\":0.2}},\"type\":\"bar\"}],\"scattergeo\":[{\"type\":\"scattergeo\",\"marker\":{\"colorbar\":{\"outlinewidth\":0,\"ticks\":\"\"}}}],\"scatterpolar\":[{\"type\":\"scatterpolar\",\"marker\":{\"colorbar\":{\"outlinewidth\":0,\"ticks\":\"\"}}}],\"histogram\":[{\"marker\":{\"pattern\":{\"fillmode\":\"overlay\",\"size\":10,\"solidity\":0.2}},\"type\":\"histogram\"}],\"scattergl\":[{\"type\":\"scattergl\",\"marker\":{\"colorbar\":{\"outlinewidth\":0,\"ticks\":\"\"}}}],\"scatter3d\":[{\"type\":\"scatter3d\",\"line\":{\"colorbar\":{\"outlinewidth\":0,\"ticks\":\"\"}},\"marker\":{\"colorbar\":{\"outlinewidth\":0,\"ticks\":\"\"}}}],\"scattermapbox\":[{\"type\":\"scattermapbox\",\"marker\":{\"colorbar\":{\"outlinewidth\":0,\"ticks\":\"\"}}}],\"scatterternary\":[{\"type\":\"scatterternary\",\"marker\":{\"colorbar\":{\"outlinewidth\":0,\"ticks\":\"\"}}}],\"scattercarpet\":[{\"type\":\"scattercarpet\",\"marker\":{\"colorbar\":{\"outlinewidth\":0,\"ticks\":\"\"}}}],\"carpet\":[{\"aaxis\":{\"endlinecolor\":\"#2a3f5f\",\"gridcolor\":\"white\",\"linecolor\":\"white\",\"minorgridcolor\":\"white\",\"startlinecolor\":\"#2a3f5f\"},\"baxis\":{\"endlinecolor\":\"#2a3f5f\",\"gridcolor\":\"white\",\"linecolor\":\"white\",\"minorgridcolor\":\"white\",\"startlinecolor\":\"#2a3f5f\"},\"type\":\"carpet\"}],\"table\":[{\"cells\":{\"fill\":{\"color\":\"#EBF0F8\"},\"line\":{\"color\":\"white\"}},\"header\":{\"fill\":{\"color\":\"#C8D4E3\"},\"line\":{\"color\":\"white\"}},\"type\":\"table\"}],\"barpolar\":[{\"marker\":{\"line\":{\"color\":\"#E5ECF6\",\"width\":0.5},\"pattern\":{\"fillmode\":\"overlay\",\"size\":10,\"solidity\":0.2}},\"type\":\"barpolar\"}],\"pie\":[{\"automargin\":true,\"type\":\"pie\"}]},\"layout\":{\"autotypenumbers\":\"strict\",\"colorway\":[\"#636efa\",\"#EF553B\",\"#00cc96\",\"#ab63fa\",\"#FFA15A\",\"#19d3f3\",\"#FF6692\",\"#B6E880\",\"#FF97FF\",\"#FECB52\"],\"font\":{\"color\":\"#2a3f5f\"},\"hovermode\":\"closest\",\"hoverlabel\":{\"align\":\"left\"},\"paper_bgcolor\":\"white\",\"plot_bgcolor\":\"#E5ECF6\",\"polar\":{\"bgcolor\":\"#E5ECF6\",\"angularaxis\":{\"gridcolor\":\"white\",\"linecolor\":\"white\",\"ticks\":\"\"},\"radialaxis\":{\"gridcolor\":\"white\",\"linecolor\":\"white\",\"ticks\":\"\"}},\"ternary\":{\"bgcolor\":\"#E5ECF6\",\"aaxis\":{\"gridcolor\":\"white\",\"linecolor\":\"white\",\"ticks\":\"\"},\"baxis\":{\"gridcolor\":\"white\",\"linecolor\":\"white\",\"ticks\":\"\"},\"caxis\":{\"gridcolor\":\"white\",\"linecolor\":\"white\",\"ticks\":\"\"}},\"coloraxis\":{\"colorbar\":{\"outlinewidth\":0,\"ticks\":\"\"}},\"colorscale\":{\"sequential\":[[0.0,\"#0d0887\"],[0.1111111111111111,\"#46039f\"],[0.2222222222222222,\"#7201a8\"],[0.3333333333333333,\"#9c179e\"],[0.4444444444444444,\"#bd3786\"],[0.5555555555555556,\"#d8576b\"],[0.6666666666666666,\"#ed7953\"],[0.7777777777777778,\"#fb9f3a\"],[0.8888888888888888,\"#fdca26\"],[1.0,\"#f0f921\"]],\"sequentialminus\":[[0.0,\"#0d0887\"],[0.1111111111111111,\"#46039f\"],[0.2222222222222222,\"#7201a8\"],[0.3333333333333333,\"#9c179e\"],[0.4444444444444444,\"#bd3786\"],[0.5555555555555556,\"#d8576b\"],[0.6666666666666666,\"#ed7953\"],[0.7777777777777778,\"#fb9f3a\"],[0.8888888888888888,\"#fdca26\"],[1.0,\"#f0f921\"]],\"diverging\":[[0,\"#8e0152\"],[0.1,\"#c51b7d\"],[0.2,\"#de77ae\"],[0.3,\"#f1b6da\"],[0.4,\"#fde0ef\"],[0.5,\"#f7f7f7\"],[0.6,\"#e6f5d0\"],[0.7,\"#b8e186\"],[0.8,\"#7fbc41\"],[0.9,\"#4d9221\"],[1,\"#276419\"]]},\"xaxis\":{\"gridcolor\":\"white\",\"linecolor\":\"white\",\"ticks\":\"\",\"title\":{\"standoff\":15},\"zerolinecolor\":\"white\",\"automargin\":true,\"zerolinewidth\":2},\"yaxis\":{\"gridcolor\":\"white\",\"linecolor\":\"white\",\"ticks\":\"\",\"title\":{\"standoff\":15},\"zerolinecolor\":\"white\",\"automargin\":true,\"zerolinewidth\":2},\"scene\":{\"xaxis\":{\"backgroundcolor\":\"#E5ECF6\",\"gridcolor\":\"white\",\"linecolor\":\"white\",\"showbackground\":true,\"ticks\":\"\",\"zerolinecolor\":\"white\",\"gridwidth\":2},\"yaxis\":{\"backgroundcolor\":\"#E5ECF6\",\"gridcolor\":\"white\",\"linecolor\":\"white\",\"showbackground\":true,\"ticks\":\"\",\"zerolinecolor\":\"white\",\"gridwidth\":2},\"zaxis\":{\"backgroundcolor\":\"#E5ECF6\",\"gridcolor\":\"white\",\"linecolor\":\"white\",\"showbackground\":true,\"ticks\":\"\",\"zerolinecolor\":\"white\",\"gridwidth\":2}},\"shapedefaults\":{\"line\":{\"color\":\"#2a3f5f\"}},\"annotationdefaults\":{\"arrowcolor\":\"#2a3f5f\",\"arrowhead\":0,\"arrowwidth\":1},\"geo\":{\"bgcolor\":\"white\",\"landcolor\":\"#E5ECF6\",\"subunitcolor\":\"white\",\"showland\":true,\"showlakes\":true,\"lakecolor\":\"white\"},\"title\":{\"x\":0.05},\"mapbox\":{\"style\":\"light\"}}},\"xaxis\":{\"anchor\":\"y\",\"domain\":[0.0,1.0],\"title\":{\"text\":\"x\"}},\"yaxis\":{\"anchor\":\"x\",\"domain\":[0.0,1.0],\"title\":{\"text\":\"y\"}},\"legend\":{\"tracegroupgap\":0},\"margin\":{\"t\":60}},                        {\"responsive\": true}                    ).then(function(){\n",
       "                            \n",
       "var gd = document.getElementById('06abd966-16f2-40ea-97f9-bc64df2b5457');\n",
       "var x = new MutationObserver(function (mutations, observer) {{\n",
       "        var display = window.getComputedStyle(gd).display;\n",
       "        if (!display || display === 'none') {{\n",
       "            console.log([gd, 'removed!']);\n",
       "            Plotly.purge(gd);\n",
       "            observer.disconnect();\n",
       "        }}\n",
       "}});\n",
       "\n",
       "// Listen for the removal of the full notebook cells\n",
       "var notebookContainer = gd.closest('#notebook-container');\n",
       "if (notebookContainer) {{\n",
       "    x.observe(notebookContainer, {childList: true});\n",
       "}}\n",
       "\n",
       "// Listen for the clearing of the current output cell\n",
       "var outputEl = gd.closest('.output');\n",
       "if (outputEl) {{\n",
       "    x.observe(outputEl, {childList: true});\n",
       "}}\n",
       "\n",
       "                        })                };                });            </script>        </div>"
      ]
     },
     "metadata": {},
     "output_type": "display_data"
    }
   ],
   "source": [
    "import numpy as np\n",
    "import plotly.express as px\n",
    "\n",
    "# x-axis data points from 0 to 10\n",
    "x = np.arange(0, 10, step=0.1)\n",
    "\n",
    "# y-axis data points\n",
    "y = np.sin(x)\n",
    "y2 = np.cos(x)\n",
    "\n",
    "# define the plot\n",
    "fig = px.scatter(x=x, y=y)\n",
    "fig.add_scatter(x=x, y=y2)\n",
    "fig.add_scatter(x=x, y=y)\n",
    "fig.show()\n"
   ]
  },
  {
   "cell_type": "code",
   "execution_count": null,
   "id": "0ee5af9f-dd02-4031-b539-0785ed4b2b4b",
   "metadata": {},
   "outputs": [],
   "source": []
  }
 ],
 "metadata": {
  "kernelspec": {
   "display_name": "Python 3.11",
   "language": "python",
   "name": "python3"
  },
  "language_info": {
   "codemirror_mode": {
    "name": "ipython",
    "version": 3
   },
   "file_extension": ".py",
   "mimetype": "text/x-python",
   "name": "python",
   "nbconvert_exporter": "python",
   "pygments_lexer": "ipython3",
   "version": "3.11.7"
  }
 },
 "nbformat": 4,
 "nbformat_minor": 5
}
