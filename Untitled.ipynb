{
 "cells": [
  {
   "cell_type": "code",
   "execution_count": 1,
   "id": "50ffdd9f-a6c8-4a3a-ad8f-de5e2c887e41",
   "metadata": {},
   "outputs": [],
   "source": [
    "import boto3"
   ]
  },
  {
   "cell_type": "code",
   "execution_count": 2,
   "id": "0c70c63e-aa9e-41b1-a34a-d50b3eba426e",
   "metadata": {},
   "outputs": [],
   "source": [
    "import os"
   ]
  },
  {
   "cell_type": "code",
   "execution_count": 34,
   "id": "fc36b4fd-2ab7-4652-a0f2-4f0bb471803c",
   "metadata": {},
   "outputs": [
    {
     "name": "stdout",
     "output_type": "stream",
     "text": [
      "5eroFZOg+JUyAZMa9ljNPQi9TEyna863aF5K/r3q\n"
     ]
    }
   ],
   "source": [
    "print(os.getenv(\"aws_secret_access_key\".upper()))"
   ]
  },
  {
   "cell_type": "code",
   "execution_count": 44,
   "id": "7caf7f3e-8fef-4c26-a7fc-3a9df7193ac2",
   "metadata": {},
   "outputs": [],
   "source": [
    "s3 = boto3.resource('s3',\n",
    "                    endpoint_url=os.getenv('AWS_S3_ENDPOINT'),\n",
    "                    aws_access_key_id=os.getenv('AWS_ACCESS_KEY_ID'),\n",
    "                    aws_secret_access_key=os.getenv('AWS_SECRET_ACCESS_KEY')\n",
    ")"
   ]
  },
  {
   "cell_type": "code",
   "execution_count": 53,
   "id": "7278e048-f08d-4b44-80dd-a230a664a51c",
   "metadata": {},
   "outputs": [
    {
     "name": "stdout",
     "output_type": "stream",
     "text": [
      "5eroFZOg+JUyAZMa9ljNPQi9TEyna863aF5K/r3q\n"
     ]
    }
   ],
   "source": [
    "print(os.getenv('AWS_SECRET_ACCESS_KEY'))"
   ]
  },
  {
   "cell_type": "code",
   "execution_count": 54,
   "id": "b96084c5-c1d3-41cd-af21-6fb52c2b2f16",
   "metadata": {},
   "outputs": [
    {
     "data": {
      "text/plain": [
       "<botocore.client.S3 at 0x7f6261d74a50>"
      ]
     },
     "execution_count": 54,
     "metadata": {},
     "output_type": "execute_result"
    }
   ],
   "source": [
    "boto3.client('s3',\n",
    "                    endpoint_url=os.getenv('AWS_S3_ENDPOINT'),\n",
    "                    aws_access_key_id=os.getenv('AWS_ACCESS_KEY_ID'),\n",
    "                    aws_secret_access_key=os.getenv('AWS_SECRET_ACCESS_KEY'))"
   ]
  },
  {
   "cell_type": "code",
   "execution_count": 51,
   "id": "eb8719a5-95f3-4a4f-ae6a-4aca9bb47f62",
   "metadata": {
    "scrolled": true
   },
   "outputs": [
    {
     "name": "stdout",
     "output_type": "stream",
     "text": [
      "\n",
      "Selected Folder: \n",
      "\n",
      "No folders found in bucket.\n",
      "No more folder levels, would you like to:\n",
      "\n"
     ]
    },
    {
     "ename": "OSError",
     "evalue": "[Errno 6] No such device or address: '/dev/tty'",
     "output_type": "error",
     "traceback": [
      "\u001b[0;31m---------------------------------------------------------------------------\u001b[0m",
      "\u001b[0;31mOSError\u001b[0m                                   Traceback (most recent call last)",
      "Cell \u001b[0;32mIn[51], line 74\u001b[0m\n\u001b[1;32m     72\u001b[0m \u001b[38;5;28mprint\u001b[39m(\u001b[38;5;124m\"\u001b[39m\u001b[38;5;124mNo more folder levels, would you like to:\u001b[39m\u001b[38;5;130;01m\\n\u001b[39;00m\u001b[38;5;124m\"\u001b[39m)\n\u001b[1;32m     73\u001b[0m download_options\u001b[38;5;241m=\u001b[39m[\u001b[38;5;124m\"\u001b[39m\u001b[38;5;124mDownload Single File From The Folder\u001b[39m\u001b[38;5;124m\"\u001b[39m, \u001b[38;5;124m\"\u001b[39m\u001b[38;5;124mDownload The Complete Folder\u001b[39m\u001b[38;5;124m\"\u001b[39m, \u001b[38;5;124m\"\u001b[39m\u001b[38;5;124mExit Download Menu\u001b[39m\u001b[38;5;124m\"\u001b[39m]\n\u001b[0;32m---> 74\u001b[0m download_menu \u001b[38;5;241m=\u001b[39m \u001b[43mTerminalMenu\u001b[49m\u001b[43m(\u001b[49m\u001b[43mdownload_options\u001b[49m\u001b[43m)\u001b[49m\n\u001b[1;32m     75\u001b[0m download_menu_selection_index \u001b[38;5;241m=\u001b[39m download_menu\u001b[38;5;241m.\u001b[39mshow()\n\u001b[1;32m     78\u001b[0m \u001b[38;5;66;03m# In case the user jsut wanted to browse files, not download them\u001b[39;00m\n",
      "File \u001b[0;32m/opt/app-root/lib64/python3.11/site-packages/simple_term_menu.py:832\u001b[0m, in \u001b[0;36mTerminalMenu.__init__\u001b[0;34m(self, menu_entries, accept_keys, clear_menu_on_exit, clear_screen, cursor_index, cycle_cursor, exit_on_shortcut, menu_cursor, menu_cursor_style, menu_highlight_style, multi_select, multi_select_cursor, multi_select_cursor_brackets_style, multi_select_cursor_style, multi_select_empty_ok, multi_select_keys, multi_select_select_on_accept, preselected_entries, preview_border, preview_command, preview_size, preview_title, quit_keys, raise_error_on_interrupt, search_case_sensitive, search_highlight_style, search_key, shortcut_brackets_highlight_style, shortcut_key_highlight_style, show_multi_select_hint, show_multi_select_hint_text, show_search_hint, show_search_hint_text, show_shortcut_hints, show_shortcut_hints_in_status_bar, skip_empty_entries, status_bar, status_bar_below_preview, status_bar_style, title)\u001b[0m\n\u001b[1;32m    830\u001b[0m \u001b[38;5;28mself\u001b[39m\u001b[38;5;241m.\u001b[39m_check_for_valid_styles()\n\u001b[1;32m    831\u001b[0m \u001b[38;5;66;03m# backspace can be queried from the terminal database but is unreliable, query the terminal directly instead\u001b[39;00m\n\u001b[0;32m--> 832\u001b[0m \u001b[38;5;28;43mself\u001b[39;49m\u001b[38;5;241;43m.\u001b[39;49m\u001b[43m_init_backspace_control_character\u001b[49m\u001b[43m(\u001b[49m\u001b[43m)\u001b[49m\n\u001b[1;32m    833\u001b[0m \u001b[38;5;28mself\u001b[39m\u001b[38;5;241m.\u001b[39m_add_missing_control_characters_for_keys(\u001b[38;5;28mself\u001b[39m\u001b[38;5;241m.\u001b[39m_accept_keys)\n\u001b[1;32m    834\u001b[0m \u001b[38;5;28mself\u001b[39m\u001b[38;5;241m.\u001b[39m_add_missing_control_characters_for_keys(\u001b[38;5;28mself\u001b[39m\u001b[38;5;241m.\u001b[39m_quit_keys)\n",
      "File \u001b[0;32m/opt/app-root/lib64/python3.11/site-packages/simple_term_menu.py:878\u001b[0m, in \u001b[0;36mTerminalMenu._init_backspace_control_character\u001b[0;34m(self)\u001b[0m\n\u001b[1;32m    875\u001b[0m \u001b[38;5;129m@classmethod\u001b[39m\n\u001b[1;32m    876\u001b[0m \u001b[38;5;28;01mdef\u001b[39;00m \u001b[38;5;21m_init_backspace_control_character\u001b[39m(\u001b[38;5;28mself\u001b[39m) \u001b[38;5;241m-\u001b[39m\u001b[38;5;241m>\u001b[39m \u001b[38;5;28;01mNone\u001b[39;00m:\n\u001b[1;32m    877\u001b[0m     \u001b[38;5;28;01mtry\u001b[39;00m:\n\u001b[0;32m--> 878\u001b[0m         \u001b[38;5;28;01mwith\u001b[39;00m \u001b[38;5;28;43mopen\u001b[39;49m\u001b[43m(\u001b[49m\u001b[38;5;124;43m\"\u001b[39;49m\u001b[38;5;124;43m/dev/tty\u001b[39;49m\u001b[38;5;124;43m\"\u001b[39;49m\u001b[43m,\u001b[49m\u001b[43m \u001b[49m\u001b[38;5;124;43m\"\u001b[39;49m\u001b[38;5;124;43mr\u001b[39;49m\u001b[38;5;124;43m\"\u001b[39;49m\u001b[43m)\u001b[49m \u001b[38;5;28;01mas\u001b[39;00m tty:\n\u001b[1;32m    879\u001b[0m             stty_output \u001b[38;5;241m=\u001b[39m subprocess\u001b[38;5;241m.\u001b[39mcheck_output([\u001b[38;5;124m\"\u001b[39m\u001b[38;5;124mstty\u001b[39m\u001b[38;5;124m\"\u001b[39m, \u001b[38;5;124m\"\u001b[39m\u001b[38;5;124m-a\u001b[39m\u001b[38;5;124m\"\u001b[39m], universal_newlines\u001b[38;5;241m=\u001b[39m\u001b[38;5;28;01mTrue\u001b[39;00m, stdin\u001b[38;5;241m=\u001b[39mtty)\n\u001b[1;32m    880\u001b[0m         name_to_keycode_regex \u001b[38;5;241m=\u001b[39m re\u001b[38;5;241m.\u001b[39mcompile(\u001b[38;5;124mr\u001b[39m\u001b[38;5;124m\"\u001b[39m\u001b[38;5;124m^\u001b[39m\u001b[38;5;124m\\\u001b[39m\u001b[38;5;124ms*(\u001b[39m\u001b[38;5;124m\\\u001b[39m\u001b[38;5;124mS+)\u001b[39m\u001b[38;5;124m\\\u001b[39m\u001b[38;5;124ms*=\u001b[39m\u001b[38;5;124m\\\u001b[39m\u001b[38;5;124ms*\u001b[39m\u001b[38;5;124m\\\u001b[39m\u001b[38;5;124m^(\u001b[39m\u001b[38;5;124m\\\u001b[39m\u001b[38;5;124mS+)\u001b[39m\u001b[38;5;124m\\\u001b[39m\u001b[38;5;124ms*$\u001b[39m\u001b[38;5;124m\"\u001b[39m)\n",
      "\u001b[0;31mOSError\u001b[0m: [Errno 6] No such device or address: '/dev/tty'"
     ]
    }
   ],
   "source": [
    "import os\n",
    "import boto3\n",
    "from simple_term_menu import TerminalMenu\n",
    "\n",
    "\n",
    "bucket_name = 'mlops-af3743d5-d41b-4d46-8016-314a956bb9f1'\n",
    "aws_profile = '<aws profile name>'\n",
    "\n",
    "\n",
    "# Create our boto3 session and client using the desired credentials\n",
    "#boto3_session = boto3.session.Session(profile_name=aws_profile)\n",
    "s3_client = boto3.client('s3',\n",
    "                    endpoint_url=os.getenv('AWS_S3_ENDPOINT'),\n",
    "                    aws_access_key_id=os.getenv('AWS_ACCESS_KEY_ID'),\n",
    "                    aws_secret_access_key=os.getenv('AWS_SECRET_ACCESS_KEY'))\n",
    "\n",
    "# Start off with empty string to get top level folder list\n",
    "selected_folder=\"\"\n",
    "\n",
    "\n",
    "# Alow the user to select folders till we run out of folders to select and break\n",
    "while True:\n",
    "    # Get list of folders in current selected_folder (if empty string, get's top level folders)\n",
    "    list_of_objects = s3_client.list_objects(Bucket=bucket_name, Prefix=selected_folder, Delimiter=\"/\")\n",
    "\n",
    "    # If there are no folders, exit the while loop\n",
    "    if 'CommonPrefixes' not in list_of_objects:\n",
    "        break\n",
    "\n",
    "    # Extract the folder paths from the list of objects\n",
    "    folder_paths = [x['Prefix'] for x in list_of_objects['CommonPrefixes']]\n",
    "\n",
    "    # Remove the start of each folder path so we display only the current folders in the menu, not the whole path\n",
    "    folders: list = []\n",
    "    for folder_path in folder_paths:\n",
    "        folders.append(folder_path[len(selected_folder):-1])\n",
    "    \n",
    "    if \"/\" in selected_folder:\n",
    "        folders.append(\"Back To Previous Folder\")\n",
    "    folders.append(\"Exit Bucket Browser\")\n",
    "\n",
    "    # Display the menu to select the folder\n",
    "    folder_menu = TerminalMenu(folders)\n",
    "    folder_menu_selection_index = folder_menu.show()\n",
    "\n",
    "    # If user wants to navigate up a folder, remove the last flder name from the path and reapend the \"/\" if needed\n",
    "    if folders[folder_menu_selection_index] == \"Back To Previous Folder\":\n",
    "        selected_folder = (\"/\".join(selected_folder.split(\"/\")[:-2]))\n",
    "        if selected_folder != \"\":\n",
    "                selected_folder = selected_folder + \"/\"\n",
    "                \n",
    "    # If the user wants to exit the downoad menu\n",
    "    elif folders[folder_menu_selection_index] == \"Exit Bucket Browser\":\n",
    "        exit()\n",
    "\n",
    "    # Otherwise, we populate the selected_folder variable with the full key seleted\n",
    "    else:\n",
    "        selected_folder=folder_paths[folder_menu_selection_index]\n",
    "\n",
    "\n",
    "\n",
    "# Print the full path of the older the user landed on\n",
    "print(f\"\\nSelected Folder: {selected_folder}\\n\")\n",
    "\n",
    "\n",
    "# Catch in case there were no folders in the bucket\n",
    "if selected_folder == \"\":\n",
    "    print(\"No folders found in bucket.\")\n",
    "\n",
    "\n",
    "# End of tree reached, ask the user if they would like to download the folder or browse and download single files\n",
    "print(\"No more folder levels, would you like to:\\n\")\n",
    "download_options=[\"Download Single File From The Folder\", \"Download The Complete Folder\", \"Exit Download Menu\"]\n",
    "download_menu = TerminalMenu(download_options)\n",
    "download_menu_selection_index = download_menu.show()\n",
    "\n",
    "\n",
    "# In case the user jsut wanted to browse files, not download them\n",
    "if(download_options[download_menu_selection_index] == \"Exit Download Menu\"):\n",
    "    print(\"Exiting Download Menu\")\n",
    "    exit()\n",
    "\n",
    "\n",
    "# Get the list of files in the folder the user selected\n",
    "files_in_selected_folder = s3_client.list_objects_v2(Bucket = bucket_name, Prefix=selected_folder) \n",
    "\n",
    "\n",
    "# If user wants to download a single file, we displayy a menu to select the file\n",
    "if(download_options[download_menu_selection_index] == \"Download Single File From The Folder\"):\n",
    "    # Remove the path prefix from each file\n",
    "    files: list = []\n",
    "    for file in files_in_selected_folder['Contents']:\n",
    "        files.append(file['Key'][len(selected_folder):])\n",
    "\n",
    "    # Display the menu to select the file\n",
    "    file_menu = TerminalMenu(files)\n",
    "    file_menu_selection_index = file_menu.show()\n",
    "    selected_file=files_in_selected_folder['Contents'][file_menu_selection_index]['Key']\n",
    "\n",
    "    # Download the selected file\n",
    "    print(\"Downloading: \" + selected_file)\n",
    "    s3_client.download_file(bucket_name, selected_file, selected_file[len(selected_folder):])\n",
    "    print(\"\")\n",
    "\n",
    "\n",
    "# If the user wants to download the whole folder, we just loop over the files one by one and download them\n",
    "if(download_options[download_menu_selection_index] == \"Download The Complete Folder\"):\n",
    "    print(f\"Downloading {len(files_in_selected_folder['Contents'])} files..\\n\")\n",
    "    confirm_download_folder = input(\"Are you sure you want to download these files? (y/n) \")\n",
    "    if(confirm_download_folder == 'N' or confirm_download_folder == 'n'):\n",
    "        print(\"Download aborted, no files downloaded.\\n\")\n",
    "        exit()\n",
    "\n",
    "    elif (confirm_download_folder == 'Y' or confirm_download_folder == 'y'):\n",
    "        # Create a folder of the same name as the one we are downloading, in the current directory, if it doesnt exist\n",
    "        folder_to_download_into = selected_folder.split('/')[-2]\n",
    "        if not os.path.exists(folder_to_download_into):\n",
    "            os.mkdir(folder_to_download_into)\n",
    "\n",
    "        # Loop over al the files to download, and put them in the folder\n",
    "        for file in files_in_selected_folder['Contents']:\n",
    "            selected_file = file['Key']\n",
    "            print(\"Downloading: \" + file['Key'][len(selected_folder):])\n",
    "            s3_client.download_file(bucket_name, selected_file, f\"{folder_to_download_into}/\" + selected_file[len(selected_folder):])\n",
    "            print(\"\")\n",
    "\n",
    "    else:\n",
    "        print(\"y/n or Y/N only.\\n\")"
   ]
  },
  {
   "cell_type": "code",
   "execution_count": 49,
   "id": "0d5fc25a-f554-4735-9b40-70f2dcb3947c",
   "metadata": {},
   "outputs": [
    {
     "ename": "OSError",
     "evalue": "[Errno 6] No such device or address: '/dev/tty'",
     "output_type": "error",
     "traceback": [
      "\u001b[0;31m---------------------------------------------------------------------------\u001b[0m",
      "\u001b[0;31mOSError\u001b[0m                                   Traceback (most recent call last)",
      "Cell \u001b[0;32mIn[49], line 1\u001b[0m\n\u001b[0;32m----> 1\u001b[0m \u001b[38;5;28;01mwith\u001b[39;00m \u001b[38;5;28;43mopen\u001b[39;49m\u001b[43m(\u001b[49m\u001b[38;5;124;43m\"\u001b[39;49m\u001b[38;5;124;43m/dev/tty\u001b[39;49m\u001b[38;5;124;43m\"\u001b[39;49m\u001b[43m,\u001b[49m\u001b[43m \u001b[49m\u001b[38;5;124;43m\"\u001b[39;49m\u001b[38;5;124;43mr\u001b[39;49m\u001b[38;5;124;43m\"\u001b[39;49m\u001b[43m)\u001b[49m \u001b[38;5;28;01mas\u001b[39;00m tty:\n\u001b[1;32m      2\u001b[0m     a \u001b[38;5;241m=\u001b[39m\u001b[38;5;241m1\u001b[39m\n",
      "File \u001b[0;32m/opt/app-root/lib64/python3.11/site-packages/IPython/core/interactiveshell.py:324\u001b[0m, in \u001b[0;36m_modified_open\u001b[0;34m(file, *args, **kwargs)\u001b[0m\n\u001b[1;32m    317\u001b[0m \u001b[38;5;28;01mif\u001b[39;00m file \u001b[38;5;129;01min\u001b[39;00m {\u001b[38;5;241m0\u001b[39m, \u001b[38;5;241m1\u001b[39m, \u001b[38;5;241m2\u001b[39m}:\n\u001b[1;32m    318\u001b[0m     \u001b[38;5;28;01mraise\u001b[39;00m \u001b[38;5;167;01mValueError\u001b[39;00m(\n\u001b[1;32m    319\u001b[0m         \u001b[38;5;124mf\u001b[39m\u001b[38;5;124m\"\u001b[39m\u001b[38;5;124mIPython won\u001b[39m\u001b[38;5;124m'\u001b[39m\u001b[38;5;124mt let you open fd=\u001b[39m\u001b[38;5;132;01m{\u001b[39;00mfile\u001b[38;5;132;01m}\u001b[39;00m\u001b[38;5;124m by default \u001b[39m\u001b[38;5;124m\"\u001b[39m\n\u001b[1;32m    320\u001b[0m         \u001b[38;5;124m\"\u001b[39m\u001b[38;5;124mas it is likely to crash IPython. If you know what you are doing, \u001b[39m\u001b[38;5;124m\"\u001b[39m\n\u001b[1;32m    321\u001b[0m         \u001b[38;5;124m\"\u001b[39m\u001b[38;5;124myou can use builtins\u001b[39m\u001b[38;5;124m'\u001b[39m\u001b[38;5;124m open.\u001b[39m\u001b[38;5;124m\"\u001b[39m\n\u001b[1;32m    322\u001b[0m     )\n\u001b[0;32m--> 324\u001b[0m \u001b[38;5;28;01mreturn\u001b[39;00m \u001b[43mio_open\u001b[49m\u001b[43m(\u001b[49m\u001b[43mfile\u001b[49m\u001b[43m,\u001b[49m\u001b[43m \u001b[49m\u001b[38;5;241;43m*\u001b[39;49m\u001b[43margs\u001b[49m\u001b[43m,\u001b[49m\u001b[43m \u001b[49m\u001b[38;5;241;43m*\u001b[39;49m\u001b[38;5;241;43m*\u001b[39;49m\u001b[43mkwargs\u001b[49m\u001b[43m)\u001b[49m\n",
      "\u001b[0;31mOSError\u001b[0m: [Errno 6] No such device or address: '/dev/tty'"
     ]
    }
   ],
   "source": [
    "with open(\"/dev/tty\", \"r\") as tty:\n",
    "    a =1"
   ]
  },
  {
   "cell_type": "code",
   "execution_count": 55,
   "id": "9b7c5e85-2864-4ffd-83e5-2ba28f20aaed",
   "metadata": {},
   "outputs": [],
   "source": [
    "m_bucket = s3.Bucket('mlops-af3743d5-d41b-4d46-8016-314a956bb9f1')"
   ]
  },
  {
   "cell_type": "code",
   "execution_count": 62,
   "id": "bf78f408-9279-4ae9-acbd-7f91bd54f43e",
   "metadata": {},
   "outputs": [],
   "source": [
    "m_bucket = s3.Bucket('f')"
   ]
  },
  {
   "cell_type": "code",
   "execution_count": 61,
   "id": "52995f80-c95e-48af-882b-0dafb6716eb7",
   "metadata": {},
   "outputs": [
    {
     "data": {
      "text/plain": [
       "s3.BucketWebsite(bucket_name='mlops-af3743d5-d41b-4d46-8016-314a956bb9f1')"
      ]
     },
     "execution_count": 61,
     "metadata": {},
     "output_type": "execute_result"
    }
   ],
   "source": [
    "m_bucket.Website()"
   ]
  },
  {
   "cell_type": "code",
   "execution_count": 18,
   "id": "4b5d5bc9-07fc-4f6d-880d-95d6cf5eef96",
   "metadata": {},
   "outputs": [],
   "source": [
    "import sklearn.datasets\n",
    "import pandas as pd"
   ]
  },
  {
   "cell_type": "code",
   "execution_count": 16,
   "id": "d42e5362-5c76-4edf-b8f0-d6ea0d71a23c",
   "metadata": {},
   "outputs": [],
   "source": [
    "iris = sklearn.datasets.load_iris().data"
   ]
  },
  {
   "cell_type": "code",
   "execution_count": 20,
   "id": "81702d42-67a0-46ca-90be-dfbad56e5582",
   "metadata": {},
   "outputs": [],
   "source": [
    "df = pd.DataFrame(iris)"
   ]
  },
  {
   "cell_type": "code",
   "execution_count": 21,
   "id": "be3b2195-3dc8-4aa5-aee8-5abe00b93555",
   "metadata": {},
   "outputs": [
    {
     "data": {
      "text/html": [
       "<div>\n",
       "<style scoped>\n",
       "    .dataframe tbody tr th:only-of-type {\n",
       "        vertical-align: middle;\n",
       "    }\n",
       "\n",
       "    .dataframe tbody tr th {\n",
       "        vertical-align: top;\n",
       "    }\n",
       "\n",
       "    .dataframe thead th {\n",
       "        text-align: right;\n",
       "    }\n",
       "</style>\n",
       "<table border=\"1\" class=\"dataframe\">\n",
       "  <thead>\n",
       "    <tr style=\"text-align: right;\">\n",
       "      <th></th>\n",
       "      <th>0</th>\n",
       "      <th>1</th>\n",
       "      <th>2</th>\n",
       "      <th>3</th>\n",
       "    </tr>\n",
       "  </thead>\n",
       "  <tbody>\n",
       "    <tr>\n",
       "      <th>0</th>\n",
       "      <td>5.1</td>\n",
       "      <td>3.5</td>\n",
       "      <td>1.4</td>\n",
       "      <td>0.2</td>\n",
       "    </tr>\n",
       "    <tr>\n",
       "      <th>1</th>\n",
       "      <td>4.9</td>\n",
       "      <td>3.0</td>\n",
       "      <td>1.4</td>\n",
       "      <td>0.2</td>\n",
       "    </tr>\n",
       "    <tr>\n",
       "      <th>2</th>\n",
       "      <td>4.7</td>\n",
       "      <td>3.2</td>\n",
       "      <td>1.3</td>\n",
       "      <td>0.2</td>\n",
       "    </tr>\n",
       "    <tr>\n",
       "      <th>3</th>\n",
       "      <td>4.6</td>\n",
       "      <td>3.1</td>\n",
       "      <td>1.5</td>\n",
       "      <td>0.2</td>\n",
       "    </tr>\n",
       "    <tr>\n",
       "      <th>4</th>\n",
       "      <td>5.0</td>\n",
       "      <td>3.6</td>\n",
       "      <td>1.4</td>\n",
       "      <td>0.2</td>\n",
       "    </tr>\n",
       "  </tbody>\n",
       "</table>\n",
       "</div>"
      ],
      "text/plain": [
       "     0    1    2    3\n",
       "0  5.1  3.5  1.4  0.2\n",
       "1  4.9  3.0  1.4  0.2\n",
       "2  4.7  3.2  1.3  0.2\n",
       "3  4.6  3.1  1.5  0.2\n",
       "4  5.0  3.6  1.4  0.2"
      ]
     },
     "execution_count": 21,
     "metadata": {},
     "output_type": "execute_result"
    }
   ],
   "source": [
    "df.head()"
   ]
  },
  {
   "cell_type": "code",
   "execution_count": 24,
   "id": "20a22191-4813-4261-90e2-716640511f06",
   "metadata": {},
   "outputs": [],
   "source": [
    "df.to_csv(\"sample1.csv\")"
   ]
  },
  {
   "cell_type": "code",
   "execution_count": 28,
   "id": "d5157660-53da-4905-8d1d-ac5ba6347712",
   "metadata": {},
   "outputs": [],
   "source": [
    "m_bucket.upload_file(\"./sample1.csv\", \"sample1.csv\")"
   ]
  },
  {
   "cell_type": "code",
   "execution_count": 32,
   "id": "443047f3-7ae3-4d02-8f85-bc7999728724",
   "metadata": {},
   "outputs": [
    {
     "name": "stdout",
     "output_type": "stream",
     "text": [
      "openshift-client-linux-amd64-rhel9-4.16.18.tar.gz\n",
      "sample1.csv\n"
     ]
    }
   ],
   "source": [
    "for my_bucket_object in m_bucket.objects.all():\n",
    "    print(my_bucket_object.key)"
   ]
  },
  {
   "cell_type": "code",
   "execution_count": null,
   "id": "d8dc31dc-8bea-41e2-8bcf-257a72007efb",
   "metadata": {},
   "outputs": [],
   "source": []
  }
 ],
 "metadata": {
  "kernelspec": {
   "display_name": "Python 3.11",
   "language": "python",
   "name": "python3"
  },
  "language_info": {
   "codemirror_mode": {
    "name": "ipython",
    "version": 3
   },
   "file_extension": ".py",
   "mimetype": "text/x-python",
   "name": "python",
   "nbconvert_exporter": "python",
   "pygments_lexer": "ipython3",
   "version": "3.11.7"
  }
 },
 "nbformat": 4,
 "nbformat_minor": 5
}
