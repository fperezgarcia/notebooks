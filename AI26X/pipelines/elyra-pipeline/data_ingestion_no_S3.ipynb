{
 "cells": [
  {
   "cell_type": "code",
   "execution_count": 1,
   "id": "0cb9449e-bd82-4ca4-adbf-22c2715b50f3",
   "metadata": {},
   "outputs": [],
   "source": [
    "import os\n",
    "import boto3\n",
    "import pandas as pd\n",
    "import re\n",
    "from datetime import datetime"
   ]
  },
  {
   "cell_type": "code",
   "execution_count": 3,
   "id": "06108f35-10ef-4104-9f6f-3d4ecbf90474",
   "metadata": {},
   "outputs": [],
   "source": [
    "folder = './resources/data/'"
   ]
  },
  {
   "cell_type": "code",
   "execution_count": 7,
   "id": "1918c8a0-b0cc-43d9-99de-5643a08b905a",
   "metadata": {},
   "outputs": [],
   "source": [
    "df = pd.DataFrame(columns=[\"Date\", \"Tickets\"])\n",
    "\n",
    "for file in os.listdir(folder):\n",
    "    if file.endswith('.csv'):\n",
    "        file_name = os.path.join(folder, file) \n",
    "        # print(file_name)\n",
    "        tickets_df = pd.read_csv(file_name)\n",
    "        date = datetime.strptime(\n",
    "            os.path.splitext(file)[0], \"%Y%m%d\").date()\n",
    "        n_tickets = len(tickets_df)\n",
    "        new_row = pd.DataFrame({\"Date\": [date], \"Tickets\": [n_tickets]})\n",
    "        df = pd.concat([df, new_row], ignore_index=True)\n",
    "df.to_csv(\"data.csv\", index=False)"
   ]
  },
  {
   "cell_type": "code",
   "execution_count": null,
   "id": "ab5ab16f-6bf5-43e5-9f30-4fe762f8d72d",
   "metadata": {},
   "outputs": [],
   "source": []
  },
  {
   "cell_type": "code",
   "execution_count": null,
   "id": "a208ce1c-89f2-4f0f-9824-dd5988bcbc9f",
   "metadata": {},
   "outputs": [],
   "source": []
  }
 ],
 "metadata": {
  "kernelspec": {
   "display_name": "Python 3.11",
   "language": "python",
   "name": "python3"
  },
  "language_info": {
   "codemirror_mode": {
    "name": "ipython",
    "version": 3
   },
   "file_extension": ".py",
   "mimetype": "text/x-python",
   "name": "python",
   "nbconvert_exporter": "python",
   "pygments_lexer": "ipython3",
   "version": "3.11.7"
  }
 },
 "nbformat": 4,
 "nbformat_minor": 5
}
