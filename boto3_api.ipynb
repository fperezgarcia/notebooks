{
 "cells": [
  {
   "cell_type": "code",
   "execution_count": null,
   "id": "133fa77b-2841-48b3-9a49-fcd1d9f47fb6",
   "metadata": {},
   "outputs": [],
   "source": [
    "import os\n",
    "import boto3\n",
    "from flask import Flask, render_template, request, redirect, url_for \n",
    "\n",
    "app = Flask(__name__)\n",
    "\n",
    "s3 = boto3.resource(\n",
    "    's3',\n",
    "    endpoint_url='https://s3-openshift-storage.apps.mlops.software.bl.platform',\n",
    "    aws_access_key_id=os.getenv(\"aws_access_key_id\".upper()),\n",
    "    aws_secret_access_key=os.getenv(\"aws_secret_access_key\".upper())\n",
    ")\n",
    "\n",
    "# Nombre del bucket  \n",
    "BUCKET_NAME = 'mlops-af3743d5-d41b-4d46-8016-314a956bb9f1'  \n",
    "\n",
    "@app.route('/')\n",
    "\n",
    "def index():\n",
    "    # Obtener los objetos del bucket\n",
    "    objects = s3.list_objects_v2(Bucket=BUCKET_NAME)  \n",
    "    return render_template('index.html', objects=objects.get('Contents', []))  \n",
    "\n",
    "@app.route('/create-folder', methods=['POST'])  \n",
    "def create_folder():  \n",
    "    folder_name = request.form['folder_name']  \n",
    "    if not folder_name.endswith('/'):  \n",
    "        folder_name += '/'  \n",
    "    s3.put_object(Bucket=BUCKET_NAME, Key=folder_name)  \n",
    "    return redirect(url_for('index'))  \n",
    "  \n",
    "@app.route('/delete-folder', methods=['POST'])  \n",
    "def delete_folder():  \n",
    "    folder_name = request.form['folder_name']  \n",
    "    # Listar y eliminar todos los objetos dentro de la carpeta  \n",
    "    objects_to_delete = s3.list_objects_v2(Bucket=BUCKET_NAME, Prefix=folder_name).get('Contents', [])  \n",
    "    for obj in objects_to_delete:  \n",
    "        s3.delete_object(Bucket=BUCKET_NAME, Key=obj['Key'])  \n",
    "    return redirect(url_for('index'))  \n",
    "  \n",
    "if __name__ == '__main__':  \n",
    "    app.run(debug=True)  "
   ]
  }
 ],
 "metadata": {
  "kernelspec": {
   "display_name": "Python 3.11",
   "language": "python",
   "name": "python3"
  },
  "language_info": {
   "codemirror_mode": {
    "name": "ipython",
    "version": 3
   },
   "file_extension": ".py",
   "mimetype": "text/x-python",
   "name": "python",
   "nbconvert_exporter": "python",
   "pygments_lexer": "ipython3",
   "version": "3.11.7"
  }
 },
 "nbformat": 4,
 "nbformat_minor": 5
}
