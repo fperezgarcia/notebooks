{
 "cells": [
  {
   "cell_type": "code",
   "execution_count": 2,
   "id": "5bca5f02-f99c-42e9-8aa6-15c926e5da2d",
   "metadata": {},
   "outputs": [
    {
     "data": {
      "text/html": [
       "  \n",
       "<!DOCTYPE html>  \n",
       "<html lang=\"en\">  \n",
       "<head>  \n",
       "    <meta charset=\"UTF-8\">  \n",
       "    <title>S3 Browser</title>  \n",
       "</head>  \n",
       "<body>  \n",
       "    <h1>S3 Browser</h1>  \n",
       "      \n",
       "    <h2>Carpetas y Archivos</h2>  \n",
       "    <ul>  \n",
       "        {% for obj in objects %}  \n",
       "            <li>{{ obj.Key }}</li>  \n",
       "        {% endfor %}  \n",
       "    </ul>  \n",
       "      \n",
       "    <h2>Crear Carpeta</h2>  \n",
       "    <form action=\"{{ url_for('create_folder') }}\" method=\"post\">  \n",
       "        <input type=\"text\" name=\"folder_name\" placeholder=\"Nombre de la carpeta\">  \n",
       "        <input type=\"submit\" value=\"Crear\">  \n",
       "    </form>  \n",
       "      \n",
       "    <h2>Eliminar Carpeta</h2>  \n",
       "    <form action=\"{{ url_for('delete_folder') }}\" method=\"post\">  \n",
       "        <input type=\"text\" name=\"folder_name\" placeholder=\"Nombre de la carpeta\">  \n",
       "        <input type=\"submit\" value=\"Eliminar\">  \n",
       "    </form>  \n",
       "</body>  \n",
       "</html>\n"
      ],
      "text/plain": [
       "<IPython.core.display.HTML object>"
      ]
     },
     "metadata": {},
     "output_type": "display_data"
    }
   ],
   "source": [
    "from IPython.display import display, HTML  \n",
    "  \n",
    "# Tu código HTML  \n",
    "html_code = \"\"\"  \n",
    "<!DOCTYPE html>  \n",
    "<html lang=\"en\">  \n",
    "<head>  \n",
    "    <meta charset=\"UTF-8\">  \n",
    "    <title>S3 Browser</title>  \n",
    "</head>  \n",
    "<body>  \n",
    "    <h1>S3 Browser</h1>  \n",
    "      \n",
    "    <h2>Carpetas y Archivos</h2>  \n",
    "    <ul>  \n",
    "        {% for obj in objects %}  \n",
    "            <li>{{ obj.Key }}</li>  \n",
    "        {% endfor %}  \n",
    "    </ul>  \n",
    "      \n",
    "    <h2>Crear Carpeta</h2>  \n",
    "    <form action=\"{{ url_for('create_folder') }}\" method=\"post\">  \n",
    "        <input type=\"text\" name=\"folder_name\" placeholder=\"Nombre de la carpeta\">  \n",
    "        <input type=\"submit\" value=\"Crear\">  \n",
    "    </form>  \n",
    "      \n",
    "    <h2>Eliminar Carpeta</h2>  \n",
    "    <form action=\"{{ url_for('delete_folder') }}\" method=\"post\">  \n",
    "        <input type=\"text\" name=\"folder_name\" placeholder=\"Nombre de la carpeta\">  \n",
    "        <input type=\"submit\" value=\"Eliminar\">  \n",
    "    </form>  \n",
    "</body>  \n",
    "</html>\n",
    "\"\"\"  \n",
    "  \n",
    "# Mostrar el HTML en la celda del notebook  \n",
    "display(HTML(html_code))  "
   ]
  },
  {
   "cell_type": "code",
   "execution_count": 3,
   "id": "9a505f26-ca78-4b45-80c9-5f8b67ae514e",
   "metadata": {},
   "outputs": [],
   "source": [
    "import requests"
   ]
  },
  {
   "cell_type": "code",
   "execution_count": 8,
   "id": "deb48afb-ffc6-4e3b-8d32-225c4905d5bd",
   "metadata": {},
   "outputs": [
    {
     "data": {
      "text/plain": [
       "<Response [500]>"
      ]
     },
     "execution_count": 8,
     "metadata": {},
     "output_type": "execute_result"
    }
   ],
   "source": [
    "requests.get('http://127.0.0.1:5000/')"
   ]
  },
  {
   "cell_type": "code",
   "execution_count": null,
   "id": "dd92c8f3-add2-4c3c-882e-6c63f40ff194",
   "metadata": {},
   "outputs": [],
   "source": []
  }
 ],
 "metadata": {
  "kernelspec": {
   "display_name": "Python 3.11",
   "language": "python",
   "name": "python3"
  },
  "language_info": {
   "codemirror_mode": {
    "name": "ipython",
    "version": 3
   },
   "file_extension": ".py",
   "mimetype": "text/x-python",
   "name": "python",
   "nbconvert_exporter": "python",
   "pygments_lexer": "ipython3",
   "version": "3.11.7"
  }
 },
 "nbformat": 4,
 "nbformat_minor": 5
}
